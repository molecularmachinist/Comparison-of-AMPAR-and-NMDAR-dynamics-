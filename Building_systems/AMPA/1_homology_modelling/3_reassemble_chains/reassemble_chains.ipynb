{
 "cells": [
  {
   "cell_type": "code",
   "execution_count": null,
   "metadata": {},
   "outputs": [],
   "source": []
  },
  {
   "cell_type": "code",
   "execution_count": 33,
   "metadata": {},
   "outputs": [],
   "source": [
    "path = '../2_add_missing_loops/best_scored_outputs/'\n",
    "pdbA = path+'5weo_chainA_0073.pdb'\n",
    "pdbB = path+'5weo_chainB_0412_0796.pdb'\n",
    "pdbC = path+'5weo_chainC_0938.pdb'\n",
    "pdbD = path+'5weo_chainD_0483_0213.pdb'\n",
    "\n",
    "pdbs = [pdbA,pdbB,pdbC,pdbD]\n",
    "pdb_cleaned = '../0_initial_structure/5weo_cleaned.pdb'\n",
    "\n",
    "pdb_result = './5weo_reassembled.pdb'"
   ]
  },
  {
   "cell_type": "code",
   "execution_count": 45,
   "metadata": {},
   "outputs": [],
   "source": [
    "def read_atoms_and_ssbonds_of_chain(pdb, chain2read = 'A'):\n",
    "    atom_lines = []\n",
    "    ssbond_lines = []\n",
    "    with open(pdb,'r') as file:\n",
    "        for line in file:\n",
    "            if line[:4] == 'ATOM' and line[21] == chain2read:\n",
    "                atom_lines.append(line)\n",
    "            elif line[:6] == 'SSBOND' and line[15] == line[29]==chain2read:\n",
    "                ssbond_lines.append(line)\n",
    "                \n",
    "                \n",
    "    return atom_lines, ssbond_lines\n",
    "\n",
    "def index(i):\n",
    "    istr = str(i)\n",
    "    return ' '*(7-len(istr))+istr"
   ]
  },
  {
   "cell_type": "code",
   "execution_count": 35,
   "metadata": {},
   "outputs": [],
   "source": [
    "all_atom_lines = []\n",
    "all_ssbond_lines = []\n",
    "for pdb in pdbs:\n",
    "    atom_lines, ssbond_lines = read_atoms_and_ssbonds_of_chain(pdb)\n",
    "    all_atom_lines.append(atom_lines)\n",
    "    all_ssbond_lines.append(ssbond_lines)"
   ]
  },
  {
   "cell_type": "code",
   "execution_count": 36,
   "metadata": {},
   "outputs": [],
   "source": [
    "glutamate_atom_lines, _ =read_atoms_and_ssbonds_of_chain(pdb_cleaned , chain2read = 'E')"
   ]
  },
  {
   "cell_type": "code",
   "execution_count": 55,
   "metadata": {},
   "outputs": [],
   "source": [
    "with open(pdb_result, 'w') as file:\n",
    "    \n",
    "    for i, chain in enumerate('ABCD'):\n",
    "        for line in all_ssbond_lines[i]:\n",
    "            line = line[:15]+chain+line[16:29]+chain+line[30:]\n",
    "            file.write(line)\n",
    "            \n",
    "    aid = 1 #atom index\n",
    "           \n",
    "    for i, chain in enumerate('ABCD'):\n",
    "        for line in all_atom_lines[i]:\n",
    "            line = line[:4]+index(aid)+line[11:21]+chain+line[22:]\n",
    "            \n",
    "            file.write(line)\n",
    "        \n",
    "            aid += 1\n",
    "        file.write('TER\\n')\n",
    "        \n",
    "    for line in glutamate_atom_lines:\n",
    "        line = line[:4]+index(aid)+line[11:]\n",
    "        file.write(line)\n",
    "        aid += 1\n",
    "        \n",
    "    file.write('TER\\nEND\\n')\n",
    "    "
   ]
  },
  {
   "cell_type": "code",
   "execution_count": null,
   "metadata": {},
   "outputs": [],
   "source": []
  },
  {
   "cell_type": "code",
   "execution_count": null,
   "metadata": {},
   "outputs": [],
   "source": []
  }
 ],
 "metadata": {
  "kernelspec": {
   "display_name": "Python 3",
   "language": "python",
   "name": "python3"
  },
  "language_info": {
   "codemirror_mode": {
    "name": "ipython",
    "version": 3
   },
   "file_extension": ".py",
   "mimetype": "text/x-python",
   "name": "python",
   "nbconvert_exporter": "python",
   "pygments_lexer": "ipython3",
   "version": "3.7.8"
  }
 },
 "nbformat": 4,
 "nbformat_minor": 4
}
