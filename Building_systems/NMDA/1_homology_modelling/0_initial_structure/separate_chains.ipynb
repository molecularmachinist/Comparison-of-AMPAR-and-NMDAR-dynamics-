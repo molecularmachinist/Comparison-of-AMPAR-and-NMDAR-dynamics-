{
 "cells": [
  {
   "cell_type": "code",
   "execution_count": null,
   "metadata": {},
   "outputs": [],
   "source": []
  },
  {
   "cell_type": "code",
   "execution_count": 9,
   "metadata": {},
   "outputs": [],
   "source": [
    "pdbs = ['7EOR',  '7EOS',  '7EOU']\n",
    "path = '../../0_experimental_structure/'"
   ]
  },
  {
   "cell_type": "code",
   "execution_count": 1,
   "metadata": {},
   "outputs": [],
   "source": [
    "def read_atoms_and_ssbonds_of_chain(pdb, chain2read = 'A'):\n",
    "    atom_lines = []\n",
    "    ssbond_lines = []\n",
    "    with open(pdb,'r') as file:\n",
    "        for line in file:\n",
    "            if line[:4] == 'ATOM' and line[21] == chain2read:\n",
    "                atom_lines.append(line)\n",
    "            elif line[:6] == 'SSBOND' and line[15] == line[29]==chain2read:\n",
    "                ssbond_lines.append(line)\n",
    "                \n",
    "                \n",
    "    return atom_lines, ssbond_lines\n",
    "\n",
    "def index(i):\n",
    "    istr = str(i)\n",
    "    return ' '*(7-len(istr))+istr"
   ]
  },
  {
   "cell_type": "code",
   "execution_count": 14,
   "metadata": {},
   "outputs": [],
   "source": [
    "for pdb in pdbs:\n",
    "    \n",
    "    pdb_file = '{}/{}/{}.pdb'.format(path,pdb,pdb.lower())\n",
    "    \n",
    "    for chain in 'ABCD':\n",
    "        atom_lines, ssbond_lines = read_atoms_and_ssbonds_of_chain(pdb_file, chain2read = chain)\n",
    "        \n",
    "        pdb_out = '{}/{}_chain{}.pdb'.format(pdb,pdb.lower(),chain)\n",
    "        \n",
    "        with open(pdb_out, 'w') as file:\n",
    "            for line in ssbond_lines:\n",
    "                line = line[:15]+'A'+line[16:29]+'A'+line[30:]\n",
    "                file.write(line)\n",
    "            \n",
    "            \n",
    "            aid = 1\n",
    "            for line in atom_lines:\n",
    "                line = line[:4]+index(aid)+line[11:21]+'A'+line[22:]\n",
    "            \n",
    "                file.write(line)\n",
    "        \n",
    "                aid += 1\n",
    "            \n",
    "            \n",
    "            file.write('TER\\n')\n",
    "            file.write('END\\n')"
   ]
  },
  {
   "cell_type": "code",
   "execution_count": 18,
   "metadata": {},
   "outputs": [
    {
     "data": {
      "text/plain": [
       "5989"
      ]
     },
     "execution_count": 18,
     "metadata": {},
     "output_type": "execute_result"
    }
   ],
   "source": [
    "len(read_atoms_and_ssbonds_of_chain(pdb_file, chain2read = 'C')[0])"
   ]
  },
  {
   "cell_type": "code",
   "execution_count": null,
   "metadata": {},
   "outputs": [],
   "source": []
  }
 ],
 "metadata": {
  "kernelspec": {
   "display_name": "Python 3",
   "language": "python",
   "name": "python3"
  },
  "language_info": {
   "codemirror_mode": {
    "name": "ipython",
    "version": 3
   },
   "file_extension": ".py",
   "mimetype": "text/x-python",
   "name": "python",
   "nbconvert_exporter": "python",
   "pygments_lexer": "ipython3",
   "version": "3.7.8"
  }
 },
 "nbformat": 4,
 "nbformat_minor": 4
}
