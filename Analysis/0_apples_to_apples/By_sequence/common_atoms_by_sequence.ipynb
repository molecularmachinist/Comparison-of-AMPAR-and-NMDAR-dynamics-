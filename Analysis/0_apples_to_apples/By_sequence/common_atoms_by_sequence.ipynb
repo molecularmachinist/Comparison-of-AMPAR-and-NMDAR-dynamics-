{
 "cells": [
  {
   "cell_type": "code",
   "execution_count": 1,
   "metadata": {},
   "outputs": [],
   "source": [
    "import numpy as np\n",
    "import MDAnalysis as mda\n",
    "from MDAnalysis.analysis import align\n",
    "import Bio.SeqIO"
   ]
  },
  {
   "cell_type": "markdown",
   "metadata": {},
   "source": [
    "### Input pdb files:"
   ]
  },
  {
   "cell_type": "code",
   "execution_count": 2,
   "metadata": {},
   "outputs": [],
   "source": [
    "pdb1 = 'input_files/5weo_final_homology_model.pdb'\n",
    "pdb2 = 'input_files/7eo_final_homology_model.pdb'"
   ]
  },
  {
   "cell_type": "markdown",
   "metadata": {},
   "source": [
    "### Selections for aligment:\n",
    "(syntax: https://docs.mdanalysis.org/stable/documentation_pages/selections.html )"
   ]
  },
  {
   "cell_type": "code",
   "execution_count": 27,
   "metadata": {},
   "outputs": [],
   "source": [
    "sel_pdb1 = 'segid A and resid 73:310'\n",
    "sel_pdb2 = 'segid A and resid 30:293'"
   ]
  },
  {
   "cell_type": "markdown",
   "metadata": {},
   "source": [
    "### Indexes of first residues in the selections:"
   ]
  },
  {
   "cell_type": "code",
   "execution_count": 28,
   "metadata": {},
   "outputs": [],
   "source": [
    "resid_of_first_residue_in_sel_pdb1 = 73\n",
    "resid_of_first_residue_in_sel_pdb2 = 30"
   ]
  },
  {
   "cell_type": "markdown",
   "metadata": {},
   "source": [
    "### Output fasta file for uniprot:"
   ]
  },
  {
   "cell_type": "code",
   "execution_count": 29,
   "metadata": {},
   "outputs": [],
   "source": [
    "fasta_file = 'fasta_for_uniprot.fasta'"
   ]
  },
  {
   "cell_type": "markdown",
   "metadata": {},
   "source": [
    "### Run next cell to create fasta_file and to print its content"
   ]
  },
  {
   "cell_type": "code",
   "execution_count": 30,
   "metadata": {},
   "outputs": [
    {
     "name": "stdout",
     "output_type": "stream",
     "text": [
      ">pdb1 <unknown description>\n",
      "NMLTSFCGALHVCFITPSFPVDTSNQFVLQLRPELQDALISIIDHYKWQKFVYIYDADRG\n",
      "LSVLQKVLDTAAEKNWQVTAVNILTTTEEGYRMLFQDLEKKKERLVVVDCESERLNAILG\n",
      "QIIKLEKNGIGYHYILANLGFMDIDLNKFKESGANVTGFQLVNYTDTIPAKIMQQWKNSD\n",
      "ARDHTRVDWKRPKYTSALTYDGVKVMAEAFQSLRRQRIDISRRGNAGDCLANPAVPWG\n",
      ">pdb2 <unknown description>\n",
      "LPLDVNVVALLMNRTDPKSLITHVCDLMSGARIHGLVFGDDTDQEAVAQMLDFISSHTFV\n",
      "PILGIHGGASMIMADKDPTSTFFQFGASIQQQATVMLKIMQDYDWHVFSLVTTIFPGYRE\n",
      "FISFVKTTVDNSFVGWDMQNVITLDTSFEDAKTQVQLKKIHSSVILLYCSKDEAVLILSE\n",
      "ARSLGLTGYDFFWIVPSLVSGNTELIPKEFPSGLISVSYDDWDYSLEARVRDGIGILTTA\n",
      "ASSMLEKFSYIPEAKASCYGQMER\n",
      "\n"
     ]
    }
   ],
   "source": [
    "u1 = mda.Universe(pdb1)\n",
    "u2 = mda.Universe(pdb2)\n",
    "\n",
    "subset1 = u1.select_atoms(sel_pdb1)\n",
    "subset2 = u2.select_atoms(sel_pdb2)\n",
    "\n",
    "\n",
    "record1 = subset1.residues.sequence(id='pdb1')\n",
    "record2 = subset2.residues.sequence(id='pdb2')\n",
    "\n",
    "Bio.SeqIO.write([record1, record2], fasta_file, 'fasta')\n",
    "\n",
    "with open(fasta_file,'r') as file:\n",
    "    print(file.read())"
   ]
  },
  {
   "cell_type": "markdown",
   "metadata": {},
   "source": [
    "### Create aligment with uniprot\n",
    "Copy output from previous cell to https://www.uniprot.org/align and then press \"Run Align\". \n",
    "\n",
    "When the aligment is ready, download it as an uncompressed text file. Set \"aligment_file\" to equal the file you just dowloaded."
   ]
  },
  {
   "cell_type": "code",
   "execution_count": 31,
   "metadata": {},
   "outputs": [],
   "source": [
    "aligment_file = 'aligment.aln'"
   ]
  },
  {
   "cell_type": "markdown",
   "metadata": {},
   "source": [
    "### Run next cell to get common AtomGroups"
   ]
  },
  {
   "cell_type": "code",
   "execution_count": 41,
   "metadata": {},
   "outputs": [
    {
     "data": {
      "text/plain": [
       "(<AtomGroup with 1238 atoms>, <AtomGroup with 1237 atoms>)"
      ]
     },
     "execution_count": 41,
     "metadata": {},
     "output_type": "execute_result"
    }
   ],
   "source": [
    "def read_seqs_from_aligment_file(aligment_file, id1='pdb1', id2='pdb2'):\n",
    "    seq1, seq2 = '', ''\n",
    "    with open(aligment_file,'r') as file:\n",
    "        for line in file:\n",
    "            s = line.split()\n",
    "            if len(s) > 1:\n",
    "                if s[0] == id1:\n",
    "                    seq1 += s[1]\n",
    "                elif s[0] == id2:\n",
    "                    seq2 += s[1]\n",
    "    return seq1, seq2\n",
    "\n",
    "\n",
    "def find_common_atom_select(seq1,seq2, i1=0, i2=0):\n",
    "\n",
    "    backbone1 = ''\n",
    "    whole_res1 = ''\n",
    "    \n",
    "    backbone2 = ''\n",
    "    whole_res2 = ''\n",
    "    for aa1,aa2 in zip(seq1,seq2):\n",
    "\n",
    "        bool1 = aa1 != '-'\n",
    "        bool2 = aa2 != '-'\n",
    "\n",
    "        if bool1 and bool2:\n",
    "            i1 += 1\n",
    "            i2 += 1\n",
    "            if aa1 == aa2:\n",
    "                whole_res1 += ' {}'.format(i1)\n",
    "                whole_res2 += ' {}'.format(i2)\n",
    "            else:\n",
    "                backbone1 += ' {}'.format(i1)\n",
    "                backbone2 += ' {}'.format(i2)\n",
    "                \n",
    "\n",
    "        elif bool2: i2 += 1\n",
    "        elif bool1: i1 += 1\n",
    "    \n",
    "    \n",
    "    if backbone1 == '':\n",
    "        if whole_res1 == '':\n",
    "            sel1 = ''\n",
    "        else:\n",
    "            sel1 = 'resid {}'.format(whole_res1)\n",
    "            \n",
    "    elif whole_res1 == '':\n",
    "        sel1 = 'backbone and resid {}'.format(backbone1)\n",
    "    else:\n",
    "        sel1 = '(backbone and resid {}) or (resid {})'.format(backbone1,whole_res1)\n",
    "    \n",
    "    \n",
    "    if backbone2 == '':\n",
    "        if whole_res2 == '':\n",
    "            sel2 = ''\n",
    "        else:\n",
    "            sel2 = 'resid {}'.format(whole_res2)\n",
    "            \n",
    "    elif whole_res2 == '':\n",
    "        sel2 = 'backbone and resid {}'.format(backbone2)\n",
    "    else:\n",
    "        sel2 = '(backbone and resid {}) or (resid {})'.format(backbone2,whole_res2)\n",
    "    \n",
    "    \n",
    "    return sel1, sel2\n",
    "\n",
    "seq1, seq2 = read_seqs_from_aligment_file(aligment_file, id1='pdb1', id2='pdb2')\n",
    "\n",
    "i1 = resid_of_first_residue_in_sel_pdb1 - 1\n",
    "i2 = resid_of_first_residue_in_sel_pdb2 - 1\n",
    "sel1, sel2 = find_common_atom_select(seq1,seq2, i1=i1, i2=i2)\n",
    "\n",
    "common_sel1 = subset1.select_atoms(sel1)\n",
    "common_sel2 = subset2.select_atoms(sel2)\n",
    "\n",
    "common_sel1, common_sel2"
   ]
  },
  {
   "cell_type": "markdown",
   "metadata": {},
   "source": [
    "### Write AtomGroups to Gromacs ndx files"
   ]
  },
  {
   "cell_type": "code",
   "execution_count": 42,
   "metadata": {},
   "outputs": [],
   "source": [
    "ndx_file1 = 'hih.ndx'\n",
    "ndx_file2 = 'hah.ndx'\n",
    "\n",
    "name1 = 'transmembrane_part'\n",
    "name2 = 'transmembrane_part'"
   ]
  },
  {
   "cell_type": "code",
   "execution_count": 43,
   "metadata": {},
   "outputs": [],
   "source": [
    "with mda.selections.gromacs.SelectionWriter(ndx_file1, mode='w') as ndx1:\n",
    "    ndx1.write(common_sel1, name=name1)\n",
    "    \n",
    "with mda.selections.gromacs.SelectionWriter(ndx_file2, mode='w') as ndx2:\n",
    "    ndx2.write(common_sel2, name=name1)"
   ]
  },
  {
   "cell_type": "code",
   "execution_count": null,
   "metadata": {},
   "outputs": [],
   "source": []
  },
  {
   "cell_type": "markdown",
   "metadata": {},
   "source": [
    "### Write AtomGroups to pdb files"
   ]
  },
  {
   "cell_type": "code",
   "execution_count": 44,
   "metadata": {},
   "outputs": [],
   "source": [
    "pdb_common1 = 'common1.pdb'\n",
    "pdb_common2 = 'common2.pdb'\n",
    "\n",
    "common_sel1.write(pdb_common1)\n",
    "common_sel2.write(pdb_common2)"
   ]
  },
  {
   "cell_type": "code",
   "execution_count": null,
   "metadata": {},
   "outputs": [],
   "source": []
  },
  {
   "cell_type": "code",
   "execution_count": null,
   "metadata": {},
   "outputs": [],
   "source": []
  },
  {
   "cell_type": "code",
   "execution_count": null,
   "metadata": {},
   "outputs": [],
   "source": []
  },
  {
   "cell_type": "code",
   "execution_count": null,
   "metadata": {},
   "outputs": [],
   "source": []
  }
 ],
 "metadata": {
  "kernelspec": {
   "display_name": "Python 3",
   "language": "python",
   "name": "python3"
  },
  "language_info": {
   "codemirror_mode": {
    "name": "ipython",
    "version": 3
   },
   "file_extension": ".py",
   "mimetype": "text/x-python",
   "name": "python",
   "nbconvert_exporter": "python",
   "pygments_lexer": "ipython3",
   "version": "3.7.8"
  }
 },
 "nbformat": 4,
 "nbformat_minor": 5
}
