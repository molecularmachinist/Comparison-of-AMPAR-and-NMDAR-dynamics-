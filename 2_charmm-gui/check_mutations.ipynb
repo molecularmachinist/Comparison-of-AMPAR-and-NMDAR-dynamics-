{
 "cells": [
  {
   "cell_type": "code",
   "execution_count": 1,
   "id": "44d9ed2a",
   "metadata": {},
   "outputs": [],
   "source": [
    "import lil_helpers as lh"
   ]
  },
  {
   "cell_type": "code",
   "execution_count": 2,
   "id": "ee7cde1c",
   "metadata": {},
   "outputs": [],
   "source": [
    "pdb = '../Add_missing_residues_1/AMPA/5weo_cleaned_filled.pdb'\n",
    "ABCD = lh.seq_in_chains(pdb)"
   ]
  },
  {
   "cell_type": "code",
   "execution_count": 10,
   "id": "a86c6c97",
   "metadata": {},
   "outputs": [
    {
     "name": "stdout",
     "output_type": "stream",
     "text": [
      "\n",
      "\n",
      "Chain: A\n",
      "Resid\tseq1       seq2\n",
      "167,\tTHR(T) !=  MET(M)\n",
      "232,\tGLU(E) !=  ASN(N)\n",
      "267,\tALA(A) !=  THR(T)\n",
      "373,\tLEU(L) !=  VAL(V)\n",
      "375,\tGLU(E) !=  GLY(G)\n",
      "376,\tASP(D) !=  ASN(N)\n",
      "383,\tGLN(Q) !=  ASN(N)\n",
      "734,\tGLY(G) !=  ARG(R)\n",
      "735,\tTHR(T) !=  ASN(N)\n",
      "736,\tPRO(P) !=  ALA(A)\n",
      "745,\tSER(S) !=  ASN(N)\n",
      "749,\tVAL(V) !=  LEU(L)\n",
      "766,\tALA(A) !=  SER(S)\n",
      "767,\tLYS(K) !=  GLY(G)\n",
      "768,\tASP(D) !=  GLY(G)\n",
      "769,\tSER(S) !=  GLY(G)\n",
      "770,\tGLY(G) !=  ASP(D)\n",
      "\n",
      "\n",
      "Chain: B\n",
      "Resid\tseq1       seq2\n",
      "978,\tTHR(T) !=  MET(M)\n",
      "1043,\tGLU(E) !=  ASN(N)\n",
      "1078,\tALA(A) !=  THR(T)\n",
      "1184,\tLEU(L) !=  VAL(V)\n",
      "1186,\tGLU(E) !=  GLY(G)\n",
      "1187,\tASP(D) !=  ASN(N)\n",
      "1194,\tGLN(Q) !=  ASN(N)\n",
      "1545,\tGLY(G) !=  ARG(R)\n",
      "1546,\tTHR(T) !=  ASN(N)\n",
      "1547,\tPRO(P) !=  ALA(A)\n",
      "1556,\tSER(S) !=  ASN(N)\n",
      "1560,\tVAL(V) !=  LEU(L)\n",
      "1577,\tALA(A) !=  SER(S)\n",
      "1578,\tLYS(K) !=  GLY(G)\n",
      "1579,\tASP(D) !=  GLY(G)\n",
      "1580,\tSER(S) !=  GLY(G)\n",
      "1581,\tGLY(G) !=  ASP(D)\n",
      "\n",
      "\n",
      "Chain: C\n",
      "Resid\tseq1       seq2\n",
      "1788,\tTHR(T) !=  MET(M)\n",
      "1853,\tGLU(E) !=  ASN(N)\n",
      "1888,\tALA(A) !=  THR(T)\n",
      "1994,\tLEU(L) !=  VAL(V)\n",
      "1996,\tGLU(E) !=  GLY(G)\n",
      "1997,\tASP(D) !=  ASN(N)\n",
      "2004,\tGLN(Q) !=  ASN(N)\n",
      "2355,\tGLY(G) !=  ARG(R)\n",
      "2356,\tTHR(T) !=  ASN(N)\n",
      "2357,\tPRO(P) !=  ALA(A)\n",
      "2366,\tSER(S) !=  ASN(N)\n",
      "2370,\tVAL(V) !=  LEU(L)\n",
      "2387,\tALA(A) !=  SER(S)\n",
      "2388,\tLYS(K) !=  GLY(G)\n",
      "2389,\tASP(D) !=  GLY(G)\n",
      "2390,\tSER(S) !=  GLY(G)\n",
      "2391,\tGLY(G) !=  ASP(D)\n",
      "\n",
      "\n",
      "Chain: D\n",
      "Resid\tseq1       seq2\n",
      "2599,\tTHR(T) !=  MET(M)\n",
      "2664,\tGLU(E) !=  ASN(N)\n",
      "2699,\tALA(A) !=  THR(T)\n",
      "2805,\tLEU(L) !=  VAL(V)\n",
      "2807,\tGLU(E) !=  GLY(G)\n",
      "2808,\tASP(D) !=  ASN(N)\n",
      "2815,\tGLN(Q) !=  ASN(N)\n",
      "3166,\tGLY(G) !=  ARG(R)\n",
      "3167,\tTHR(T) !=  ASN(N)\n",
      "3168,\tPRO(P) !=  ALA(A)\n",
      "3177,\tSER(S) !=  ASN(N)\n",
      "3181,\tVAL(V) !=  LEU(L)\n",
      "3198,\tALA(A) !=  SER(S)\n",
      "3199,\tLYS(K) !=  GLY(G)\n",
      "3200,\tASP(D) !=  GLY(G)\n",
      "3201,\tSER(S) !=  GLY(G)\n",
      "3202,\tGLY(G) !=  ASP(D)\n"
     ]
    }
   ],
   "source": [
    "i0 = 1\n",
    "for chain in 'ABCD':\n",
    "    print('\\n\\nChain:',chain)\n",
    "    lh.print_diff_seq(ABCD[chain],lh.seq_ampa,i0=i0)\n",
    "    \n",
    "    i0 += len(ABCD[chain])\n",
    "    "
   ]
  },
  {
   "cell_type": "code",
   "execution_count": null,
   "id": "0692ffe6",
   "metadata": {},
   "outputs": [],
   "source": []
  }
 ],
 "metadata": {
  "kernelspec": {
   "display_name": "Python 3",
   "language": "python",
   "name": "python3"
  },
  "language_info": {
   "codemirror_mode": {
    "name": "ipython",
    "version": 3
   },
   "file_extension": ".py",
   "mimetype": "text/x-python",
   "name": "python",
   "nbconvert_exporter": "python",
   "pygments_lexer": "ipython3",
   "version": "3.7.10"
  }
 },
 "nbformat": 4,
 "nbformat_minor": 5
}
