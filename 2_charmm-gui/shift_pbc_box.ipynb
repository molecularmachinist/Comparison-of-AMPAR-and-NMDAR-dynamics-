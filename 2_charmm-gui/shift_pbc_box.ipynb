{
 "cells": [
  {
   "cell_type": "code",
   "execution_count": 1,
   "metadata": {},
   "outputs": [],
   "source": [
    "def read_gro(gro, n_header=2):\n",
    "    with open(gro, 'r') as file:\n",
    "        lines = file.readlines()\n",
    "    atoms = lines[n_header:-1]\n",
    "    header = lines[:n_header]\n",
    "    box_line = lines[-1]\n",
    "    return header, atoms, box_line\n",
    "\n",
    "def shift_z(atoms, zbox, x):\n",
    "    result = []\n",
    "    for atom in atoms:\n",
    "        z = float(atom[36:44])\n",
    "        if z > x:\n",
    "            z -= x\n",
    "        elif z <= x:\n",
    "            z += zbox-x\n",
    "        result.append(atom[:36] + \"%8.3f\" % z + atom[44:])\n",
    "    return result\n",
    "   \n",
    "    \n",
    "def write_gro(file, header, atoms, box_line):\n",
    "    with open(file,'w') as file:\n",
    "        for line in header+atoms+[box_line]:\n",
    "            file.write(line)"
   ]
  },
  {
   "cell_type": "code",
   "execution_count": 3,
   "metadata": {},
   "outputs": [],
   "source": [
    "gro_in = '/work/pirnessa/Work/Comparison-of-AMPAR-and-NMDAR-dynamics/Building_systems/2_charmm-gui/AMPA/charmm-gui-2516490568/gromacs/step5_input.gro'\n",
    "gro_out = '/work/pirnessa/Work/Comparison-of-AMPAR-and-NMDAR-dynamics/Building_systems/2_charmm-gui/AMPA/charmm-gui-2516490568/gromacs/centered.gro'\n",
    "\n",
    "x = 5\n",
    "\n",
    "header, atoms, box_line = read_gro(gro_in)\n",
    "\n",
    "zbox = float(box_line.split()[2])\n",
    "\n",
    "shifted_atoms = shift_z(atoms, zbox, x)\n",
    "\n",
    "write_gro(gro_out, header, shifted_atoms, box_line)"
   ]
  },
  {
   "cell_type": "code",
   "execution_count": 6,
   "metadata": {},
   "outputs": [
    {
     "data": {
      "text/plain": [
       "193246.0"
      ]
     },
     "execution_count": 6,
     "metadata": {},
     "output_type": "execute_result"
    }
   ],
   "source": [
    "191806 + (748572-744252)/3"
   ]
  },
  {
   "cell_type": "code",
   "execution_count": 5,
   "metadata": {},
   "outputs": [
    {
     "data": {
      "text/plain": [
       "1440.0"
      ]
     },
     "execution_count": 5,
     "metadata": {},
     "output_type": "execute_result"
    }
   ],
   "source": [
    "(748572-744252)/3"
   ]
  },
  {
   "cell_type": "code",
   "execution_count": 4,
   "metadata": {},
   "outputs": [
    {
     "data": {
      "text/plain": [
       "4.918816067653277"
      ]
     },
     "execution_count": 4,
     "metadata": {},
     "output_type": "execute_result"
    }
   ],
   "source": [
    "46532/9460"
   ]
  },
  {
   "cell_type": "code",
   "execution_count": null,
   "metadata": {},
   "outputs": [],
   "source": []
  }
 ],
 "metadata": {
  "kernelspec": {
   "display_name": "Python 3",
   "language": "python",
   "name": "python3"
  },
  "language_info": {
   "codemirror_mode": {
    "name": "ipython",
    "version": 3
   },
   "file_extension": ".py",
   "mimetype": "text/x-python",
   "name": "python",
   "nbconvert_exporter": "python",
   "pygments_lexer": "ipython3",
   "version": "3.8.10"
  }
 },
 "nbformat": 4,
 "nbformat_minor": 5
}
